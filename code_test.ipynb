{
 "cells": [
  {
   "cell_type": "code",
   "execution_count": null,
   "metadata": {},
   "outputs": [],
   "source": [
    "import numpy as np\n",
    "import matplotlib.pyplot as plt\n",
    "import pytesseract as ocr\n",
    "import cv2\n",
    "import skimage\n",
    "from skimage.filters import try_all_threshold\n",
    "from skimage import filters\n",
    "from skimage import exposure\n",
    "from skimage.io import imread\n",
    "from PIL import Image\n",
    "from IPython import display\n",
    "import random\n",
    "import imutils\n",
    "\n",
    "# from pre_process import PreProcess,auto_brightandcontrast,perfect_binary\n",
    "import time"
   ]
  },
  {
   "cell_type": "code",
   "execution_count": null,
   "metadata": {},
   "outputs": [],
   "source": [
    "#cli_config = '--oem 1 --psm 12 --tessdata-dir ~/tessdata/ -l eng+equ+ben+hin'"
   ]
  },
  {
   "cell_type": "code",
   "execution_count": null,
   "metadata": {},
   "outputs": [],
   "source": [
    "DIR = 'sample_images/'\n",
    "\n",
    "\n",
    "n = np.random.randint(0,43) # random image\n",
    "img_path = DIR+str(n)+'.png'\n",
    "sk_image = imread(img_path,as_gray=True) # sklearn image\n",
    "\n",
    "fig,ax = try_all_threshold(sk_image,figsize=(20,15))\n",
    "#plt.save('threshold.jpeg',dpi=350)\n",
    "print(n)\n",
    "plt.show()\n"
   ]
  },
  {
   "cell_type": "markdown",
   "metadata": {},
   "source": [
    "### Pattern shows that:\n",
    "1. `Yen` is for images which have lots of dark region and suppresses the region. It also tend to word good with very light images. So in general terms, it tend to work well with images which have brightness/intensity **outliers**.\n",
    "2. `Minimum` fails when images are too light/bright and words tend to fade.\n",
    "3. `Mean` and `Triangle` are hardly of use because when there is **dark** region in the image, it tends to focus on that and makes the image completely black until light region."
   ]
  },
  {
   "cell_type": "markdown",
   "metadata": {},
   "source": [
    "# Try out different things\n",
    "## One or more might work. You need to try which one works best for the case\n",
    "1. Gaussian Filters\n",
    "2. Changing Intensity using `yen threshold`\n",
    "3. Equalize Histogram\n",
    "4. Use CLAHE\n",
    "5. Adjust Gamma\n",
    "6. Adjust Log"
   ]
  },
  {
   "cell_type": "code",
   "execution_count": null,
   "metadata": {},
   "outputs": [],
   "source": [
    "im = imread(img_path,as_gray=True)\n",
    "#im = filters.gaussian(sk_image,0.3,multichannel=False)\n",
    "\n",
    "#yen_threshold = filters.threshold_yen(im)\n",
    "#bright = exposure.rescale_intensity(im, (0, yen_threshold), (0, 255))\n",
    "\n",
    "\n",
    "\n",
    "#im = exposure.equalize_hist(im)\n",
    "im = exposure.equalize_adapthist(im) # CLAHE\n",
    "\n",
    "im = exposure.adjust_gamma(im,1.2)\n",
    "#im = exposure.adjust_log(im,0.7)\n",
    "\n",
    "#fig,ax = try_all_threshold(im,figsize=(20,15)) # plot thresholds\n",
    "\n",
    "plt.show()\n"
   ]
  },
  {
   "cell_type": "code",
   "execution_count": null,
   "metadata": {},
   "outputs": [],
   "source": [
    "smooth,division,sharp,thresh = perfect_binary(img_path)\n",
    "\n",
    "f,ax = plt.subplots(4,1,figsize=(15,20))\n",
    "ax = ax.ravel()\n",
    "\n",
    "ax[0].imshow(smooth,cmap='gray')\n",
    "ax[0].set_title('Smoothened Image')\n",
    "\n",
    "ax[1].imshow(division,cmap='gray')\n",
    "ax[1].set_title('Divided Image')\n",
    "\n",
    "ax[2].imshow(sharp,cmap='gray')\n",
    "ax[2].set_title('Sharpened Image')\n",
    "\n",
    "ax[3].imshow(thresh,cmap='gray')\n",
    "ax[3].set_title('Binary Thresholded Image')\n",
    "\n",
    "plt.show()"
   ]
  },
  {
   "cell_type": "markdown",
   "metadata": {},
   "source": [
    "# Auto Brightness and Contrast Change (1 channel at a time)"
   ]
  },
  {
   "cell_type": "code",
   "execution_count": null,
   "metadata": {},
   "outputs": [],
   "source": [
    "# image = cv2.imread(img_path)\n",
    "# f,ax = plt.subplots(5,1,figsize=(15,25))\n",
    "# ax = ax.ravel()\n",
    "\n",
    "# ax[0].imshow(cv2.cvtColor(image,cv2.COLOR_BGR2RGB))\n",
    "# ax[0].set_title('Original in BGR Format')\n",
    "\n",
    "# ax[1].imshow(cv2.cvtColor(auto_brightandcontrast(image,0),cv2.COLOR_BGR2RGB))\n",
    "# ax[1].set_title('Propetries changed for First channel')\n",
    "\n",
    "# ax[2].imshow(cv2.cvtColor(auto_brightandcontrast(image,1),cv2.COLOR_BGR2RGB))\n",
    "# ax[2].set_title('Propetries changed for Second channel')\n",
    "\n",
    "# ax[3].imshow(cv2.cvtColor(auto_brightandcontrast(image,2),cv2.COLOR_BGR2RGB))\n",
    "# ax[3].set_title('Propetries changed for Third channel')\n",
    "\n",
    "# ax[4].imshow(auto_brightandcontrast(cv2.cvtColor(image,cv2.COLOR_BGR2GRAY),0),cmap='gray')\n",
    "# ax[4].set_title('Propetries changed for GrayScale')\n",
    "\n",
    "# plt.show()"
   ]
  },
  {
   "cell_type": "code",
   "execution_count": null,
   "metadata": {},
   "outputs": [],
   "source": [
    "cli_config = '--oem 1 --psm 12' # OCR config params Check OEM and PSM parameters\n",
    "# ! tesseract --help-extra # for OEM and PSM info\n",
    "print(ocr.image_to_string(image=thresh,config=cli_config,lang='eng+equ+hin'))"
   ]
  },
  {
   "cell_type": "markdown",
   "metadata": {},
   "source": [
    "# Test interactive Binarization"
   ]
  },
  {
   "cell_type": "code",
   "execution_count": 5,
   "metadata": {},
   "outputs": [],
   "source": []
  },
  {
   "cell_type": "code",
   "execution_count": 6,
   "metadata": {},
   "outputs": [],
   "source": [
    "tag = InteractiveBinarization()\n",
    "tag.binarize()"
   ]
  },
  {
   "cell_type": "code",
   "execution_count": null,
   "metadata": {},
   "outputs": [],
   "source": [
    "# Perspective transformation\n",
    "rows,cols,ch = img.shape\n",
    "\n",
    "pts1 = np.float32([[56,65],[368,52],[28,387],[389,390]])\n",
    "pts2 = np.float32([[0,0],[300,0],[0,300],[300,300]])\n",
    "\n",
    "M = cv2.getPerspectiveTransform(pts1,pts2)\n",
    "\n",
    "dst = cv2.warpPerspective(img,M,(300,300))\n",
    "\n",
    "plt.subplot(121),plt.imshow(img),plt.title('Input')\n",
    "plt.subplot(122),plt.imshow(dst),plt.title('Output')\n",
    "plt.show()\n"
   ]
  }
 ],
 "metadata": {
  "kernelspec": {
   "display_name": "Python 3",
   "language": "python",
   "name": "python3"
  },
  "language_info": {
   "codemirror_mode": {
    "name": "ipython",
    "version": 3
   },
   "file_extension": ".py",
   "mimetype": "text/x-python",
   "name": "python",
   "nbconvert_exporter": "python",
   "pygments_lexer": "ipython3",
   "version": "3.8.3"
  }
 },
 "nbformat": 4,
 "nbformat_minor": 4
}
